{
 "cells": [
  {
   "cell_type": "code",
   "execution_count": 1,
   "metadata": {},
   "outputs": [],
   "source": [
    "from selenium import webdriver\n",
    "from selenium.webdriver.common.by import By\n",
    "from selenium.webdriver.support.ui import WebDriverWait\n",
    "from selenium.webdriver.support import expected_conditions as EC"
   ]
  },
  {
   "cell_type": "code",
   "execution_count": 2,
   "metadata": {},
   "outputs": [],
   "source": [
    "selectors = {\n",
    "    \"Container\": \"[data-testid='primaryColumn']\",\n",
    "    \"Bio\": \"[data-testid='UserDescription']\",\n",
    "    \"FollowingFollowers\": \".css-175oi2r:not(.r-1mf7evn) .r-bcqeeo.r-qvutc0.r-poiln3.r-1b43r93.r-1cwl3u0.r-b88u0q span\",\n",
    "    \"Location\": \"[data-testid='UserLocation']\",\n",
    "    \"Website\": \"[data-testid='UserUrl']\",\n",
    "}\n",
    "\n",
    "# the driver is public for a reason, see `structure_twitter_data`\n",
    "driver: webdriver.Firefox\n",
    "\n",
    "\n",
    "class TwitterUser:\n",
    "    link: str  # for reference\n",
    "    bio: str\n",
    "    following: int\n",
    "    followers: int\n",
    "    location: str\n",
    "    website: str\n",
    "\n",
    "    def __init__(self, link, bio, following, followers, location, website):\n",
    "        self.link = link\n",
    "        self.bio = bio\n",
    "        self.following = following\n",
    "        self.followers = followers\n",
    "        self.location = location\n",
    "        self.website = website"
   ]
  },
  {
   "cell_type": "markdown",
   "metadata": {},
   "source": [
    "Flow of operations:\n",
    "1. Initialise the webdriver             with `start_scraping_twitter`.\n",
    "2. Scrape raw data from the given links with `scrape_raw_twitter_data`\n",
    "4. Free driver\n",
    "3. Get needed information from data     with `structure_twitter_data`  (threaded)\n",
    "5. Stop"
   ]
  },
  {
   "cell_type": "code",
   "execution_count": 3,
   "metadata": {},
   "outputs": [],
   "source": [
    "import csv\n",
    "\n",
    "links = []\n",
    "\n",
    "with open(\"twitter_links.csv\", newline=\"\") as csvfile:\n",
    "    reader = csv.reader(csvfile)\n",
    "\n",
    "    for row in reader:\n",
    "        links.append(row[0])"
   ]
  },
  {
   "cell_type": "code",
   "execution_count": 4,
   "metadata": {},
   "outputs": [],
   "source": [
    "from collections import deque\n",
    "import logging"
   ]
  },
  {
   "cell_type": "code",
   "execution_count": 5,
   "metadata": {},
   "outputs": [],
   "source": [
    "information: [object] = []\n",
    "users: [TwitterUser] = []\n",
    "\n",
    "saved_logging_level = logging.getLogger().getEffectiveLevel()"
   ]
  },
  {
   "cell_type": "code",
   "execution_count": 6,
   "metadata": {},
   "outputs": [],
   "source": [
    "logging.getLogger().setLevel(logging.INFO)"
   ]
  },
  {
   "cell_type": "markdown",
   "metadata": {},
   "source": [
    "## 1. Initialise the webdriver"
   ]
  },
  {
   "cell_type": "code",
   "execution_count": 7,
   "metadata": {},
   "outputs": [],
   "source": [
    "# firefox is probably the best familiar enough option out there\n",
    "options = webdriver.FirefoxOptions()\n",
    "options.add_argument(\"-headless\") # uncomment to make headless\n",
    "driver = webdriver.Firefox(options=options)"
   ]
  },
  {
   "cell_type": "markdown",
   "metadata": {},
   "source": [
    "## 2. Scrape raw data from the given links"
   ]
  },
  {
   "cell_type": "code",
   "execution_count": 8,
   "metadata": {},
   "outputs": [
    {
     "name": "stderr",
     "output_type": "stream",
     "text": [
      "INFO:root:successfully added https://twitter.com/GTNUK1\n",
      "INFO:root:successfully added https://twitter.com/whatsapp\n",
      "INFO:root:successfully added https://twitter.com/aacb_CBPTrade\n",
      "INFO:root:successfully added https://twitter.com/aacbdotcom\n",
      "INFO:root:successfully added https://twitter.com/@AAWindowPRODUCT\n",
      "INFO:root:successfully added https://www.twitter.com/aandb_kia\n",
      "INFO:root:successfully added https://twitter.com/ABHomeInc\n",
      "INFO:root:successfully added https://twitter.com/Abrepro\n",
      "INFO:root:successfully added https://twitter.com/ACChristofiLtd\n",
      "INFO:root:successfully added https://twitter.com/aeclothing1\n",
      "INFO:root:successfully added https://twitter.com/AETechnologies1\n",
      "INFO:root:successfully added http://www.twitter.com/wix\n",
      "INFO:root:successfully added https://twitter.com/AGInsuranceLLC\n"
     ]
    }
   ],
   "source": [
    "processed_links = links.copy()\n",
    "\n",
    "for link in links:\n",
    "    driver.get(link)\n",
    "    # essential exception handling since we don't want to stop at any point\n",
    "    try:\n",
    "        WebDriverWait(driver, 10).until(\n",
    "            EC.presence_of_element_located(\n",
    "                (By.CSS_SELECTOR, selectors[\"FollowingFollowers\"])\n",
    "            )\n",
    "        )\n",
    "    except:\n",
    "        logging.exception(f\"Exception with {link}\")\n",
    "        processed_links.remove(link)  # completely get rid of the link\n",
    "        continue\n",
    "\n",
    "    container = driver.find_element(\n",
    "        By.CSS_SELECTOR, selectors[\"Container\"]\n",
    "    ).get_attribute(\"innerHTML\")\n",
    "    logging.info(f\"successfully added {link}\")\n",
    "    information.append({\"html\": container, \"link\": link})\n",
    "\n",
    "links = processed_links.copy()"
   ]
  },
  {
   "cell_type": "markdown",
   "metadata": {},
   "source": [
    "## 3. Free driver"
   ]
  },
  {
   "cell_type": "code",
   "execution_count": 9,
   "metadata": {},
   "outputs": [],
   "source": [
    "driver.quit()"
   ]
  },
  {
   "cell_type": "markdown",
   "metadata": {},
   "source": [
    "## 4. Scrape needed information from data"
   ]
  },
  {
   "cell_type": "code",
   "execution_count": 15,
   "metadata": {},
   "outputs": [],
   "source": [
    "for i in information:\n",
    "    link = links.pop()\n",
    "    i = information.popleft()\n",
    "\n",
    "    # bs4 handles from this point since we don't need resource heavy selenium anymore\n",
    "    soup = BeautifulSoup(i, \"html.parser\")\n",
    "    bio = soup.select_one(selectors[\"Bio\"])\n",
    "\n",
    "    # since following and follower count both have the same CSS selector,\n",
    "    # we'll get an array with 2 elements in it\n",
    "    following_followers = soup.select(selectors[\"FollowingFollowers\"])\n",
    "    # substitution of K, M, L (lakh), etc. is required here\n",
    "    for i in range(len(following_followers)):\n",
    "        value = following_followers[i].text.upper()  # for case insensitivity\n",
    "        # using regex to match the value and suffix\n",
    "        matching = re.compile(r\"(\\d+(\\.\\d+)?)\\s*([KLM]?)\").match(value)\n",
    "\n",
    "        if matching:\n",
    "            number, _, suffix = matching.groups()\n",
    "            multiplier = {\n",
    "                \"K\": 10**3,  # thousand\n",
    "                \"L\": 10**5,  # lakh\n",
    "                \"M\": 10**6,  # million\n",
    "            }.get(suffix, 1)\n",
    "\n",
    "            following_followers[i] = int(float(number) * multiplier)\n",
    "        # if it doesn't match, we'll still extract the information as a string\n",
    "\n",
    "    following = following_followers[0]\n",
    "    followers = following_followers[1]\n",
    "\n",
    "    location = soup.select_one(selectors[\"Location\"])\n",
    "    website = soup.select_one(selectors[\"Website\"])\n",
    "\n",
    "    user = TwitterUser(\n",
    "        link,\n",
    "        bio.text if bio else None,\n",
    "        following,\n",
    "        followers,\n",
    "        location.text if location else None,\n",
    "        website.text if website else None,\n",
    "    )\n",
    "\n",
    "    data.append(user)"
   ]
  },
  {
   "cell_type": "code",
   "execution_count": 19,
   "metadata": {},
   "outputs": [],
   "source": [
    "required_len = len(processed_links)\n",
    "\n",
    "lock = Lock()\n",
    "for _ in range(4):\n",
    "    t = Thread(target=structure_twitter_data, args=(information, links, users, lock))\n",
    "    t.start()\n",
    "    t.join()\n",
    "\n",
    "\n",
    "# only continute once the threads are done\n",
    "while len(users) != required_len:\n",
    "    pass"
   ]
  },
  {
   "cell_type": "code",
   "execution_count": 24,
   "metadata": {},
   "outputs": [
    {
     "data": {
      "text/plain": [
       "(0,\n",
       " 13,\n",
       " ['https://twitter.com/GTNUK1',\n",
       "  'https://twitter.com/whatsapp',\n",
       "  'https://twitter.com/aacb_CBPTrade',\n",
       "  'https://twitter.com/aacbdotcom',\n",
       "  'https://twitter.com/@AAWindowPRODUCT',\n",
       "  'https://www.twitter.com/aandb_kia',\n",
       "  'https://twitter.com/ABHomeInc',\n",
       "  'https://twitter.com/Abrepro',\n",
       "  'https://twitter.com/ACChristofiLtd',\n",
       "  'https://twitter.com/aeclothing1',\n",
       "  'https://twitter.com/AETechnologies1',\n",
       "  'http://www.twitter.com/wix',\n",
       "  'https://twitter.com/AGInsuranceLLC'])"
      ]
     },
     "execution_count": 24,
     "metadata": {},
     "output_type": "execute_result"
    }
   ],
   "source": [
    "len(information), len(users), processed_links"
   ]
  },
  {
   "cell_type": "markdown",
   "metadata": {},
   "source": [
    "Now we convert the data to CSV, finally."
   ]
  },
  {
   "cell_type": "code",
   "execution_count": 22,
   "metadata": {},
   "outputs": [],
   "source": [
    "from datetime import datetime"
   ]
  },
  {
   "cell_type": "code",
   "execution_count": 23,
   "metadata": {},
   "outputs": [],
   "source": [
    "output_path = f\"./out/data-{datetime.now().strftime('%Y-%m-%d_%H.%M.%S')}.csv\"\n",
    "\n",
    "# finally save the data\n",
    "with open(output_path, \"w\", newline=\"\") as file:\n",
    "    writer = csv.writer(file)\n",
    "    writer.writerow([\"Link\", \"Bio\", \"Following\", \"Followers\", \"Location\", \"Website\"])\n",
    "\n",
    "    for user in users:\n",
    "        writer.writerow(\n",
    "            [\n",
    "                user.link,\n",
    "                user.bio,\n",
    "                user.following,\n",
    "                user.followers,\n",
    "                user.location,\n",
    "                user.website,\n",
    "            ]\n",
    "        )"
   ]
  }
 ],
 "metadata": {
  "kernelspec": {
   "display_name": "venv",
   "language": "python",
   "name": "python3"
  },
  "language_info": {
   "codemirror_mode": {
    "name": "ipython",
    "version": 3
   },
   "file_extension": ".py",
   "mimetype": "text/x-python",
   "name": "python",
   "nbconvert_exporter": "python",
   "pygments_lexer": "ipython3",
   "version": "3.10.12"
  }
 },
 "nbformat": 4,
 "nbformat_minor": 2
}
